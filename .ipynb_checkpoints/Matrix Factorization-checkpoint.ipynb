{
 "cells": [
  {
   "cell_type": "code",
   "execution_count": 1,
   "metadata": {},
   "outputs": [],
   "source": [
    "import numpy as np\n",
    "from tqdm import tqdm\n",
    "import matplotlib.pyplot as plt"
   ]
  },
  {
   "cell_type": "code",
   "execution_count": 2,
   "metadata": {},
   "outputs": [
    {
     "name": "stderr",
     "output_type": "stream",
     "text": [
      "100%|██████████████████████████████████████████████████████████████████████████| 20000/20000 [00:09<00:00, 2213.49it/s]\n"
     ]
    },
    {
     "name": "stdout",
     "output_type": "stream",
     "text": [
      "R:\n",
      " [[4 2 None 1 5]\n",
      " [3 4 4 2 None]\n",
      " [1 None 5 4 5]\n",
      " [None 3 3 3 4]\n",
      " [2 5 5 None 3]]\n",
      "P:\n",
      " [[ 1.35927095 -0.59902318 -0.15233437]\n",
      " [ 0.29251569  0.8683034  -0.05449467]\n",
      " [-0.3473298   0.31829543  1.68572475]\n",
      " [-0.23323469 -0.27474062  0.1694031 ]\n",
      " [ 0.37996917  1.58703737  0.63593811]]\n",
      "Q:\n",
      " [[ 0.91026875 -0.09576478 -1.11794857]\n",
      " [-0.09351916  1.07463097  0.74464213]\n",
      " [ 0.58669268  0.83924958  0.76637029]\n",
      " [-1.0528273  -0.25392923  0.40155452]\n",
      " [ 0.77878534 -0.82966724  0.75730106]]\n",
      "R':\n",
      " [[4.00051053 2.00247052 3.13160119 1.00116436 4.99813428]\n",
      " [2.99504173 3.96738584 4.02764145 2.00642741 3.23952536]\n",
      " [1.00109506 5.21329788 5.00559642 3.99981941 4.99670579]\n",
      " [2.43152168 3.01082372 2.98737386 2.99600815 4.00387979]\n",
      " [2.00382895 5.01558519 4.98115293 1.77897165 3.0040671 ]]\n",
      "MSE Loss: 0.05374248673136776\n"
     ]
    },
    {
     "data": {
      "text/plain": [
       "[<matplotlib.lines.Line2D at 0x24b6dbecf60>]"
      ]
     },
     "execution_count": 2,
     "metadata": {},
     "output_type": "execute_result"
    },
    {
     "data": {
      "image/png": "[encoded data removed]",
      "text/plain": [
       "<Figure size 432x288 with 1 Axes>"
      ]
     },
     "metadata": {
      "needs_background": "light"
     },
     "output_type": "display_data"
    }
   ],
   "source": [
    "r = np.array([[4, 2, None, 1, 5], [3, 4, 4, 2, None], [1, None, 5, 4, 5], [None, 3, 3, 3, 4], [2, 5, 5, None, 3]])\n",
    "m, u = r.shape\n",
    "e = np.zeros((m, u))\n",
    "\n",
    "k = 3\n",
    "alpha = 0.001\n",
    "beta = 0.001\n",
    "iters = 20000\n",
    "\n",
    "p = np.random.rand(m, k)\n",
    "q = np.random.rand(u, k)\n",
    "\n",
    "p1 = p.copy()\n",
    "q1 = q.copy()\n",
    "\n",
    "bias_p = np.zeros(m)\n",
    "bias_q = np.zeros(u)\n",
    "b = np.mean(r[np.where(r != None)])\n",
    "\n",
    "bias_p1 = bias_p.copy()\n",
    "bias_q1 = bias_q.copy()\n",
    "\n",
    "loss = []\n",
    "for n in tqdm(range(iters)):\n",
    "    e = np.zeros((m, u))\n",
    "    r1 = np.dot(p, q.T) + b + np.array([[i]*len(bias_p) for i in bias_p]) + np.array([[i]*len(bias_q) for i in bias_q]).T\n",
    "    pairs = []\n",
    "    for i in range(m):\n",
    "        for j in range(u):\n",
    "            if r[i][j] != None:\n",
    "                e[i][j] = r[i][j]-r1[i][j]\n",
    "                pairs.append((i, j))\n",
    "    np.random.shuffle(pairs)\n",
    "    for i, j in pairs:\n",
    "        p1[i][:] = p[i][:] + alpha*(2*e[i][j]*q[j][:]-beta*p[i][:])\n",
    "        q1[j][:] = q[j][:] + alpha*(2*e[i][j]*p[i][:]-beta*q[j][:])\n",
    "        bias_p1[i] = bias_p[i] + alpha * (e[i][j] - beta * bias_p[i])\n",
    "        bias_q1[j] = bias_q[j] + alpha * (e[i][j] - beta * bias_q[j])\n",
    "    p = p1.copy()\n",
    "    q = q1.copy()\n",
    "    bias_p = bias_p1.copy()\n",
    "    bias_q = bias_q1.copy()\n",
    "    loss.append(np.sqrt(np.sum(e**2)))\n",
    "\n",
    "print('R:\\n', r)\n",
    "print('P:\\n', p)\n",
    "print('Q:\\n', q)\n",
    "print('R\\':\\n', np.dot(p, q.T) + b + np.array([[i]*len(bias_p) for i in bias_p]) + np.array([[i]*len(bias_q) for i in bias_q]).T)\n",
    "print('MSE Loss:', loss[-1])\n",
    "plt.plot(loss)"
   ]
  }
 ],
 "metadata": {
  "kernelspec": {
   "display_name": "Python 3",
   "language": "python",
   "name": "python3"
  },
  "language_info": {
   "codemirror_mode": {
    "name": "ipython",
    "version": 3
   },
   "file_extension": ".py",
   "mimetype": "text/x-python",
   "name": "python",
   "nbconvert_exporter": "python",
   "pygments_lexer": "ipython3",
   "version": "3.7.3"
  }
 },
 "nbformat": 4,
 "nbformat_minor": 2
}
