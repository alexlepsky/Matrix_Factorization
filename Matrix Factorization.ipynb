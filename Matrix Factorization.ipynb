{
 "cells": [
  {
   "cell_type": "code",
   "execution_count": 1,
   "metadata": {},
   "outputs": [],
   "source": [
    "import numpy as np\n",
    "from tqdm import tqdm\n",
    "import matplotlib.pyplot as plt"
   ]
  },
  {
   "cell_type": "code",
   "execution_count": 2,
   "metadata": {},
   "outputs": [],
   "source": [
    "class MatrixFactorization:\n",
    "    def __init__(self, r, k, iters=1000, alpha=0.01, beta=0.01):\n",
    "        self.r = r\n",
    "        self.m, self.u = self.r.shape\n",
    "        self.e = np.zeros((self.m, self.u))\n",
    "        self.k = k\n",
    "        self.iters = iters\n",
    "        self.alpha = alpha\n",
    "        self.beta = beta\n",
    "        self.loss = []\n",
    "\n",
    "    def fit(self):\n",
    "        self.p = np.random.rand(self.m, self.k)\n",
    "        self.q = np.random.rand(self.u, self.k)\n",
    "        self.bias_p = np.zeros(self.m)\n",
    "        self.bias_q = np.zeros(self.u)\n",
    "        self.b = np.mean(self.r[np.where(self.r != None)])\n",
    "        for n in range(self.iters):\n",
    "            self.r1 = np.dot(self.p, self.q.T) + self.b + np.array([[i]*len(self.bias_p) for i in self.bias_p]) + np.array([[i]*len(self.bias_q) for i in self.bias_q]).T\n",
    "            pairs = []\n",
    "            for i in range(self.m):\n",
    "                for j in range(self.u):\n",
    "                    if self.r[i][j] != None:\n",
    "                        self.e[i][j] = self.r[i][j]-self.r1[i][j]\n",
    "                        pairs.append((i, j))\n",
    "            np.random.shuffle(pairs)\n",
    "            for i, j in pairs:\n",
    "                self.p[i][:] += self.alpha * (2*self.e[i][j]*self.q[j][:]-self.beta*self.p[i][:])\n",
    "                self.q[j][:] += self.alpha * (2*self.e[i][j]*self.p[i][:]-self.beta*self.q[j][:])\n",
    "                self.bias_p[i] += self.alpha * (self.e[i][j] - self.beta * self.bias_p[i])\n",
    "                self.bias_q[j] += self.alpha * (self.e[i][j] - self.beta * self.bias_q[j])\n",
    "            self.loss.append(np.sqrt(np.sum(self.e**2)))\n",
    "\n",
    "    def predict(self):\n",
    "        return np.dot(self.p, self.q.T) + self.b + np.array([[i]*len(self.bias_p) for i in self.bias_p]) + np.array([[i]*len(self.bias_q) for i in self.bias_q]).T\n",
    "\n",
    "    def fit_predict(self):\n",
    "        self.fit()\n",
    "        return self.predict()\n",
    "\n",
    "    def return_loss(self):\n",
    "        return self.loss\n",
    "\n",
    "    def return_mse_loss(self):\n",
    "        return np.sqrt(np.sum(self.e**2))"
   ]
  },
  {
   "cell_type": "code",
   "execution_count": 3,
   "metadata": {},
   "outputs": [
    {
     "name": "stdout",
     "output_type": "stream",
     "text": [
      "0.003662374664226401\n"
     ]
    },
    {
     "data": {
      "text/plain": [
       "[<matplotlib.lines.Line2D at 0x1522646a2e8>]"
      ]
     },
     "execution_count": 3,
     "metadata": {},
     "output_type": "execute_result"
    },
    {
     "data": {
      "image/png": "[encoded data removed]",
      "text/plain": [
       "<Figure size 432x288 with 1 Axes>"
      ]
     },
     "metadata": {
      "needs_background": "light"
     },
     "output_type": "display_data"
    }
   ],
   "source": [
    "r = np.array([[4, 2, None, 1, 5], [3, 4, 4, 2, None], [1, None, 5, 4, 5], [None, 3, 3, 3, 4], [2, 5, 5, None, 3]])\n",
    "mf = MatrixFactorization(r, k=3, iters=10000, alpha=0.001, beta=0.001)\n",
    "mf.fit_predict()\n",
    "print(mf.return_mse_loss())\n",
    "plt.plot(mf.return_loss())"
   ]
  }
 ],
 "metadata": {
  "kernelspec": {
   "display_name": "Python 3",
   "language": "python",
   "name": "python3"
  },
  "language_info": {
   "codemirror_mode": {
    "name": "ipython",
    "version": 3
   },
   "file_extension": ".py",
   "mimetype": "text/x-python",
   "name": "python",
   "nbconvert_exporter": "python",
   "pygments_lexer": "ipython3",
   "version": "3.7.3"
  }
 },
 "nbformat": 4,
 "nbformat_minor": 2
}
