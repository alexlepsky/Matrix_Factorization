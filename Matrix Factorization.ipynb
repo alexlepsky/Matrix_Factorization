{
 "cells": [
  {
   "cell_type": "code",
   "execution_count": 1,
   "metadata": {},
   "outputs": [],
   "source": [
    "import numpy as np\n",
    "from tqdm import tqdm\n",
    "import matplotlib.pyplot as plt"
   ]
  },
  {
   "cell_type": "code",
   "execution_count": 2,
   "metadata": {},
   "outputs": [
    {
     "name": "stderr",
     "output_type": "stream",
     "text": [
      "100%|██████████████████████████████████████████████████████████████████████████| 10000/10000 [00:02<00:00, 3490.74it/s]\n"
     ]
    },
    {
     "name": "stdout",
     "output_type": "stream",
     "text": [
      "R:\n",
      " [[4 2 None 1 5]\n",
      " [3 4 4 2 None]\n",
      " [1 None 5 4 5]\n",
      " [None 3 3 3 4]\n",
      " [2 5 5 None 3]]\n",
      "P:\n",
      " [[-0.06756925  0.20537591  2.3257792 ]\n",
      " [ 0.65776347  1.14197172  1.37718767]\n",
      " [ 2.02407154  0.7536197   0.97732965]\n",
      " [ 1.54778798  0.01467301  0.86939256]\n",
      " [ 1.12321461  1.73366159  0.55798017]]\n",
      "Q:\n",
      " [[-0.68042906  1.07845918  1.60468986]\n",
      " [ 1.49737036  1.68493659  0.75939115]\n",
      " [ 1.4261126   1.65560154  0.88308771]\n",
      " [ 1.6741742   0.23064031  0.45784924]\n",
      " [ 1.36331965  0.14771106  2.17494768]]\n",
      "R':\n",
      " [[3.9996199  2.01104534 2.29752634 0.9991015  4.99666587]\n",
      " [2.9939676  3.9548896  4.04487242 1.99513967 4.06073485]\n",
      " [1.00382197 5.04276164 4.99731566 4.00993308 4.99641533]\n",
      " [0.35776976 3.00254397 2.9993625  2.99270163 4.00318048]\n",
      " [2.00080054 5.02670333 4.96482874 2.53577996 3.00095923]]\n",
      "Loss: 0.08006271074030004\n"
     ]
    },
    {
     "data": {
      "text/plain": [
       "[<matplotlib.lines.Line2D at 0x25951468390>]"
      ]
     },
     "execution_count": 2,
     "metadata": {},
     "output_type": "execute_result"
    },
    {
     "data": {
      "image/png": "[encoded data removed]",
      "text/plain": [
       "<Figure size 432x288 with 1 Axes>"
      ]
     },
     "metadata": {
      "needs_background": "light"
     },
     "output_type": "display_data"
    }
   ],
   "source": [
    "r = np.array([[4, 2, None, 1, 5], [3, 4, 4, 2, None], [1, None, 5, 4, 5], [None, 3, 3, 3, 4], [2, 5, 5, None, 3]])\n",
    "m, u = r.shape\n",
    "e = np.zeros((m, u))\n",
    "\n",
    "k = 3\n",
    "alpha = 0.001\n",
    "iters = 10000\n",
    "\n",
    "p = np.random.rand(m, k)\n",
    "q = np.random.rand(u, k)\n",
    "\n",
    "p1 = p.copy()\n",
    "q1 = q.copy()\n",
    "\n",
    "loss = []\n",
    "for n in tqdm(range(iters)):\n",
    "    e = np.zeros((m, u))\n",
    "    r1 = np.dot(p, q.T)\n",
    "    pairs = []\n",
    "    for i in range(m):\n",
    "        for j in range(u):\n",
    "            if r[i][j] != None:\n",
    "                e[i][j] = r[i][j]-r1[i][j]\n",
    "                pairs.append((i, j))\n",
    "    np.random.shuffle(pairs)\n",
    "    for i, j in pairs:\n",
    "        p1[i][:] = p[i][:] + 2*alpha*e[i][j]*q[j][:]\n",
    "        q1[j][:] = q[j][:] + 2*alpha*e[i][j]*p[i][:]\n",
    "    p = p1.copy()\n",
    "    q = q1.copy()\n",
    "    loss.append(np.sqrt(np.sum(e**2)))\n",
    "\n",
    "print('R:\\n',r)\n",
    "print('P:\\n',p)\n",
    "print('Q:\\n',q)\n",
    "print('R\\':\\n',np.dot(p, q.T))\n",
    "print('Loss:',loss[-1])\n",
    "plt.plot(loss)"
   ]
  },
  {
   "cell_type": "code",
   "execution_count": null,
   "metadata": {},
   "outputs": [],
   "source": []
  }
 ],
 "metadata": {
  "kernelspec": {
   "display_name": "Python 3",
   "language": "python",
   "name": "python3"
  },
  "language_info": {
   "codemirror_mode": {
    "name": "ipython",
    "version": 3
   },
   "file_extension": ".py",
   "mimetype": "text/x-python",
   "name": "python",
   "nbconvert_exporter": "python",
   "pygments_lexer": "ipython3",
   "version": "3.7.3"
  }
 },
 "nbformat": 4,
 "nbformat_minor": 2
}
